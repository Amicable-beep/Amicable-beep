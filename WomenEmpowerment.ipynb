{
  "nbformat": 4,
  "nbformat_minor": 0,
  "metadata": {
    "colab": {
      "provenance": [],
      "authorship_tag": "ABX9TyOGtU+AHTLf7w9NgtTmfJJM",
      "include_colab_link": true
    },
    "kernelspec": {
      "name": "python3",
      "display_name": "Python 3"
    },
    "language_info": {
      "name": "python"
    }
  },
  "cells": [
    {
      "cell_type": "markdown",
      "metadata": {
        "id": "view-in-github",
        "colab_type": "text"
      },
      "source": [
        "<a href=\"https://colab.research.google.com/github/Amicable-beep/Amicable-beep/blob/main/WomenEmpowerment.ipynb\" target=\"_parent\"><img src=\"https://colab.research.google.com/assets/colab-badge.svg\" alt=\"Open In Colab\"/></a>"
      ]
    },
    {
      "cell_type": "code",
      "execution_count": 3,
      "metadata": {
        "colab": {
          "base_uri": "https://localhost:8080/"
        },
        "id": "lz7CdsMzsPG6",
        "outputId": "000eecf3-f590-4fbd-f5dc-6324c10efbaa"
      },
      "outputs": [
        {
          "output_type": "stream",
          "name": "stdout",
          "text": [
            "hello world\n"
          ]
        }
      ],
      "source": [
        "print('hello world')"
      ]
    },
    {
      "cell_type": "markdown",
      "source": [
        "| ID  | Name         | Gender | Age | Program         | Completion\\_Status | Score |\n",
        "| --- | ------------ | ------ | --- | --------------- | ------------------ | ----- |\n",
        "| 1   | Grace Ajayi  | Female | 24  | Data Analytics  | Completed          | 88    |\n",
        "| 2   | Musa Bello   | Male   | 26  | Web Development | Dropped            | 52    |\n",
        "| 3   | Mary Okoro   | Female | 22  | Power Platform  | Completed          | 90    |\n",
        "| 4   | Ahmed Salisu | Male   | 29  | Data Analytics  | Completed          | 85    |\n",
        "| 5   | Fatima Dogo  | Female | 20  | Web Development | Completed          | 91    |\n",
        "| ... | ...          | ...    | ... | ...             | ...                | ...   |\n"
      ],
      "metadata": {
        "id": "vHWYZ5CPveyB"
      }
    },
    {
      "cell_type": "code",
      "source": [
        "pip pandas"
      ],
      "metadata": {
        "colab": {
          "base_uri": "https://localhost:8080/"
        },
        "id": "r5nU9uD-vw3C",
        "outputId": "4ab4ea1e-68bb-4a5e-d55c-d06ce4e75a9b"
      },
      "execution_count": 4,
      "outputs": [
        {
          "output_type": "stream",
          "name": "stdout",
          "text": [
            "ERROR: unknown command \"pandas\"\n"
          ]
        }
      ]
    },
    {
      "cell_type": "code",
      "metadata": {
        "colab": {
          "base_uri": "https://localhost:8080/"
        },
        "id": "f7cc48a8",
        "outputId": "baf148f5-b5b4-4ac0-8326-c1edaca336fa"
      },
      "source": [
        "%pip install pandas"
      ],
      "execution_count": 5,
      "outputs": [
        {
          "output_type": "stream",
          "name": "stdout",
          "text": [
            "Requirement already satisfied: pandas in /usr/local/lib/python3.11/dist-packages (2.2.2)\n",
            "Requirement already satisfied: numpy>=1.23.2 in /usr/local/lib/python3.11/dist-packages (from pandas) (2.0.2)\n",
            "Requirement already satisfied: python-dateutil>=2.8.2 in /usr/local/lib/python3.11/dist-packages (from pandas) (2.9.0.post0)\n",
            "Requirement already satisfied: pytz>=2020.1 in /usr/local/lib/python3.11/dist-packages (from pandas) (2025.2)\n",
            "Requirement already satisfied: tzdata>=2022.7 in /usr/local/lib/python3.11/dist-packages (from pandas) (2025.2)\n",
            "Requirement already satisfied: six>=1.5 in /usr/local/lib/python3.11/dist-packages (from python-dateutil>=2.8.2->pandas) (1.17.0)\n"
          ]
        }
      ]
    },
    {
      "cell_type": "code",
      "metadata": {
        "colab": {
          "base_uri": "https://localhost:8080/"
        },
        "id": "2e6269b9",
        "outputId": "d48108a2-f401-4a36-f0a2-f6bc41861515"
      },
      "source": [
        "%pip install matplotlib"
      ],
      "execution_count": 6,
      "outputs": [
        {
          "output_type": "stream",
          "name": "stdout",
          "text": [
            "Requirement already satisfied: matplotlib in /usr/local/lib/python3.11/dist-packages (3.10.0)\n",
            "Requirement already satisfied: contourpy>=1.0.1 in /usr/local/lib/python3.11/dist-packages (from matplotlib) (1.3.2)\n",
            "Requirement already satisfied: cycler>=0.10 in /usr/local/lib/python3.11/dist-packages (from matplotlib) (0.12.1)\n",
            "Requirement already satisfied: fonttools>=4.22.0 in /usr/local/lib/python3.11/dist-packages (from matplotlib) (4.58.1)\n",
            "Requirement already satisfied: kiwisolver>=1.3.1 in /usr/local/lib/python3.11/dist-packages (from matplotlib) (1.4.8)\n",
            "Requirement already satisfied: numpy>=1.23 in /usr/local/lib/python3.11/dist-packages (from matplotlib) (2.0.2)\n",
            "Requirement already satisfied: packaging>=20.0 in /usr/local/lib/python3.11/dist-packages (from matplotlib) (24.2)\n",
            "Requirement already satisfied: pillow>=8 in /usr/local/lib/python3.11/dist-packages (from matplotlib) (11.2.1)\n",
            "Requirement already satisfied: pyparsing>=2.3.1 in /usr/local/lib/python3.11/dist-packages (from matplotlib) (3.2.3)\n",
            "Requirement already satisfied: python-dateutil>=2.7 in /usr/local/lib/python3.11/dist-packages (from matplotlib) (2.9.0.post0)\n",
            "Requirement already satisfied: six>=1.5 in /usr/local/lib/python3.11/dist-packages (from python-dateutil>=2.7->matplotlib) (1.17.0)\n"
          ]
        }
      ]
    },
    {
      "cell_type": "code",
      "metadata": {
        "colab": {
          "base_uri": "https://localhost:8080/"
        },
        "id": "fe6c7880",
        "outputId": "de10e53d-3bcc-4009-84f0-d7d5b90af045"
      },
      "source": [
        "%pip install openpyxl"
      ],
      "execution_count": 7,
      "outputs": [
        {
          "output_type": "stream",
          "name": "stdout",
          "text": [
            "Requirement already satisfied: openpyxl in /usr/local/lib/python3.11/dist-packages (3.1.5)\n",
            "Requirement already satisfied: et-xmlfile in /usr/local/lib/python3.11/dist-packages (from openpyxl) (2.0.0)\n"
          ]
        }
      ]
    },
    {
      "cell_type": "code",
      "metadata": {
        "colab": {
          "base_uri": "https://localhost:8080/",
          "height": 733
        },
        "id": "3a5bd776",
        "outputId": "f3f2a8b8-77e6-4d15-b17f-78a994f6bdfd"
      },
      "source": [
        "import pandas as pd\n",
        "import matplotlib.pyplot as plt\n",
        "\n",
        "# Load the dataset\n",
        "df = pd.read_csv('gender_participation.csv')\n",
        "\n",
        "# Clean data\n",
        "df.dropna(inplace=True)\n",
        "\n",
        "# Gender distribution\n",
        "gender_counts = df['Gender'].value_counts()\n",
        "print(\"Gender distribution:\\n\", gender_counts)\n",
        "\n",
        "# Completion rate by gender\n",
        "completion = df[df['Completion_Status'] == 'Completed']\n",
        "completion_rate = completion['Gender'].value_counts() / gender_counts * 100\n",
        "print(\"\\nCompletion rate by gender (%):\\n\", completion_rate.round(2))\n",
        "\n",
        "# Plot participation by program and gender\n",
        "program_gender = df.groupby(['Program', 'Gender']).size().unstack()\n",
        "program_gender.plot(kind='bar', title=\"Program Participation by Gender\", figsize=(10, 5))\n",
        "plt.ylabel(\"Number of Participants\")\n",
        "plt.tight_layout()\n",
        "plt.savefig(\"program_participation_by_gender.png\")\n",
        "\n",
        "# Export Excel summary\n",
        "summary_df = pd.DataFrame({\n",
        "    \"Total Participants\": gender_counts,\n",
        "    \"Completion Rate (%)\": completion_rate.round(2)\n",
        "})\n",
        "summary_df.to_excel(\"sdg5_summary.xlsx\")\n",
        "\n",
        "print(\"\\nAnalysis complete. Chart and summary exported.\")"
      ],
      "execution_count": 10,
      "outputs": [
        {
          "output_type": "stream",
          "name": "stdout",
          "text": [
            "Gender distribution:\n",
            " Gender\n",
            "Female    3\n",
            "Male      2\n",
            "Name: count, dtype: int64\n",
            "\n",
            "Completion rate by gender (%):\n",
            " Gender\n",
            "Female    100.0\n",
            "Male       50.0\n",
            "Name: count, dtype: float64\n",
            "\n",
            "Analysis complete. Chart and summary exported.\n"
          ]
        },
        {
          "output_type": "display_data",
          "data": {
            "text/plain": [
              "<Figure size 1000x500 with 1 Axes>"
            ],
            "image/png": "[encoded data removed]"
          },
          "metadata": {}
        }
      ]
    },
    {
      "cell_type": "code",
      "metadata": {
        "colab": {
          "base_uri": "https://localhost:8080/"
        },
        "id": "f876cef0",
        "outputId": "2ff80e8a-fc70-4d63-a01a-d624b9fe547d"
      },
      "source": [
        "import pandas as pd\n",
        "import io\n",
        "\n",
        "markdown_table = \"\"\"\n",
        "| ID  | Name         | Gender | Age | Program         | Completion_Status | Score |\n",
        "| --- | ------------ | ------ | --- | --------------- | ------------------ | ----- |\n",
        "| 1   | Grace Ajayi  | Female | 24  | Data Analytics  | Completed          | 88    |\n",
        "| 2   | Musa Bello   | Male   | 26  | Web Development | Dropped            | 52    |\n",
        "| 3   | Mary Okoro   | Female | 22  | Power Platform  | Completed          | 90    |\n",
        "| 4   | Ahmed Salisu | Male   | 29  | Data Analytics  | Completed          | 85    |\n",
        "| 5   | Fatima Dogo  | Female | 20  | Web Development | Completed          | 91    |\n",
        "\"\"\"\n",
        "\n",
        "# Read the markdown table into a pandas DataFrame\n",
        "df = pd.read_csv(io.StringIO(markdown_table), sep='|', skiprows=[2], skipinitialspace=True)\n",
        "\n",
        "# Drop the first and last columns which are empty due to the markdown table format\n",
        "df = df.iloc[:, 1:-1]\n",
        "\n",
        "# Trim leading/trailing whitespace from column names and data\n",
        "df.columns = df.columns.str.strip()\n",
        "for col in df.columns:\n",
        "    df[col] = df[col].astype(str).str.strip()\n",
        "\n",
        "# Save the DataFrame to a CSV file\n",
        "df.to_csv('gender_participation.csv', index=False)\n",
        "\n",
        "print(\"gender_participation.csv created successfully.\")"
      ],
      "execution_count": 9,
      "outputs": [
        {
          "output_type": "stream",
          "name": "stdout",
          "text": [
            "gender_participation.csv created successfully.\n"
          ]
        }
      ]
    }
  ]
}